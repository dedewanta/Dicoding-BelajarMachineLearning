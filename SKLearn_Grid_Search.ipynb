{
  "nbformat": 4,
  "nbformat_minor": 5,
  "metadata": {
    "kernelspec": {
      "display_name": "Python 3",
      "language": "python",
      "name": "python3"
    },
    "language_info": {
      "codemirror_mode": {
        "name": "ipython",
        "version": 3
      },
      "file_extension": ".py",
      "mimetype": "text/x-python",
      "name": "python",
      "nbconvert_exporter": "python",
      "pygments_lexer": "ipython3",
      "version": "3.9.1"
    },
    "colab": {
      "name": "SKLearn Grid Search.ipynb",
      "provenance": []
    }
  },
  "cells": [
    {
      "cell_type": "code",
      "metadata": {
        "id": "latter-exception",
        "outputId": "eff6bc77-e6f2-4b29-dff3-e757a92f773c"
      },
      "source": [
        "import numpy as np\n",
        "import pandas as pd\n",
        " \n",
        "# membaca dataset dan mengubahnya menjadi dataframe\n",
        "data = pd.read_csv('Salary_Data.csv')\n",
        "data.head()"
      ],
      "id": "latter-exception",
      "execution_count": null,
      "outputs": [
        {
          "data": {
            "text/html": [
              "<div>\n",
              "<style scoped>\n",
              "    .dataframe tbody tr th:only-of-type {\n",
              "        vertical-align: middle;\n",
              "    }\n",
              "\n",
              "    .dataframe tbody tr th {\n",
              "        vertical-align: top;\n",
              "    }\n",
              "\n",
              "    .dataframe thead th {\n",
              "        text-align: right;\n",
              "    }\n",
              "</style>\n",
              "<table border=\"1\" class=\"dataframe\">\n",
              "  <thead>\n",
              "    <tr style=\"text-align: right;\">\n",
              "      <th></th>\n",
              "      <th>YearsExperience</th>\n",
              "      <th>Salary</th>\n",
              "    </tr>\n",
              "  </thead>\n",
              "  <tbody>\n",
              "    <tr>\n",
              "      <th>0</th>\n",
              "      <td>1.1</td>\n",
              "      <td>39343.0</td>\n",
              "    </tr>\n",
              "    <tr>\n",
              "      <th>1</th>\n",
              "      <td>1.3</td>\n",
              "      <td>46205.0</td>\n",
              "    </tr>\n",
              "    <tr>\n",
              "      <th>2</th>\n",
              "      <td>1.5</td>\n",
              "      <td>37731.0</td>\n",
              "    </tr>\n",
              "    <tr>\n",
              "      <th>3</th>\n",
              "      <td>2.0</td>\n",
              "      <td>43525.0</td>\n",
              "    </tr>\n",
              "    <tr>\n",
              "      <th>4</th>\n",
              "      <td>2.2</td>\n",
              "      <td>39891.0</td>\n",
              "    </tr>\n",
              "  </tbody>\n",
              "</table>\n",
              "</div>"
            ],
            "text/plain": [
              "   YearsExperience   Salary\n",
              "0              1.1  39343.0\n",
              "1              1.3  46205.0\n",
              "2              1.5  37731.0\n",
              "3              2.0  43525.0\n",
              "4              2.2  39891.0"
            ]
          },
          "execution_count": 1,
          "metadata": {},
          "output_type": "execute_result"
        }
      ]
    },
    {
      "cell_type": "code",
      "metadata": {
        "id": "linear-mustang",
        "outputId": "36afd688-41fd-4b67-c5d1-3d6a9f7aaa78"
      },
      "source": [
        "# memisahkan atribut dan label\n",
        "X = data['YearsExperience']\n",
        "y = data['Salary']\n",
        " \n",
        "# mengubah bentuk atribut\n",
        "X = X[:,np.newaxis]"
      ],
      "id": "linear-mustang",
      "execution_count": null,
      "outputs": [
        {
          "name": "stderr",
          "output_type": "stream",
          "text": [
            "<ipython-input-2-a36f63d8ea50>:6: FutureWarning: Support for multi-dimensional indexing (e.g. `obj[:, None]`) is deprecated and will be removed in a future version.  Convert to a numpy array before indexing instead.\n",
            "  X = X[:,np.newaxis]\n"
          ]
        }
      ]
    },
    {
      "cell_type": "code",
      "metadata": {
        "id": "isolated-tower"
      },
      "source": [
        "from sklearn.model_selection import GridSearchCV\n",
        "from sklearn.svm import SVR\n",
        " \n",
        "# membangun model dengan parameter C, gamma, dan kernel\n",
        "model = SVR()\n",
        "parameters = {\n",
        "    'kernel': ['rbf'],\n",
        "    'C':     [1000, 10000, 100000],\n",
        "    'gamma': [0.5, 0.05,0.005]\n",
        "}\n",
        "grid_search = GridSearchCV(model, parameters)"
      ],
      "id": "isolated-tower",
      "execution_count": null,
      "outputs": []
    },
    {
      "cell_type": "code",
      "metadata": {
        "id": "different-biotechnology",
        "outputId": "20a1955b-0bc1-44f7-8d81-17648993303b"
      },
      "source": [
        "# melatih model dengan fungsi fit\n",
        "grid_search.fit(X,y)"
      ],
      "id": "different-biotechnology",
      "execution_count": null,
      "outputs": [
        {
          "data": {
            "text/plain": [
              "GridSearchCV(estimator=SVR(),\n",
              "             param_grid={'C': [1000, 10000, 100000],\n",
              "                         'gamma': [0.5, 0.05, 0.005], 'kernel': ['rbf']})"
            ]
          },
          "execution_count": 4,
          "metadata": {},
          "output_type": "execute_result"
        }
      ]
    },
    {
      "cell_type": "code",
      "metadata": {
        "id": "illegal-organic",
        "outputId": "152cb048-c55f-4781-ac37-00165994bab5"
      },
      "source": [
        "# menampilkan parameter terbaik dari objek grid_search\n",
        "print(grid_search.best_params_)"
      ],
      "id": "illegal-organic",
      "execution_count": null,
      "outputs": [
        {
          "name": "stdout",
          "output_type": "stream",
          "text": [
            "{'C': 100000, 'gamma': 0.005, 'kernel': 'rbf'}\n"
          ]
        }
      ]
    },
    {
      "cell_type": "code",
      "metadata": {
        "id": "literary-locking",
        "outputId": "87d4c696-4de5-41aa-98bd-cdad02d6de2a"
      },
      "source": [
        "# membuat model SVM baru dengan parameter terbaik hasil grid search\n",
        "model_baru  = SVR(C=100000, gamma=0.005, kernel='rbf')\n",
        "model_baru.fit(X,y)"
      ],
      "id": "literary-locking",
      "execution_count": null,
      "outputs": [
        {
          "data": {
            "text/plain": [
              "SVR(C=100000, gamma=0.005)"
            ]
          },
          "execution_count": 6,
          "metadata": {},
          "output_type": "execute_result"
        }
      ]
    },
    {
      "cell_type": "code",
      "metadata": {
        "id": "golden-trouble",
        "outputId": "62c97e06-90b1-4215-e867-438144584efe"
      },
      "source": [
        "import matplotlib.pyplot as plt\n",
        "plt.scatter(X, y)\n",
        "plt.plot(X, model_baru.predict(X),'r')\n",
        "plt.title(\"Grid Search Salary Data\")\n",
        "plt.xlabel(\"Years Experience\")\n",
        "plt.ylabel(\"Salary\")\n",
        "plt.grid()"
      ],
      "id": "golden-trouble",
      "execution_count": null,
      "outputs": [
        {
          "data": {
            "image/png": "[encoded data removed]",
            "text/plain": [
              "<Figure size 432x288 with 1 Axes>"
            ]
          },
          "metadata": {
            "needs_background": "light"
          },
          "output_type": "display_data"
        }
      ]
    }
  ]
}